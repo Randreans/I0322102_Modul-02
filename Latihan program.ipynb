{
 "cells": [
  {
   "cell_type": "code",
   "execution_count": 5,
   "metadata": {},
   "outputs": [
    {
     "name": "stdout",
     "output_type": "stream",
     "text": [
      "32.5 derajat Celcius sama dengan 90.5 derajat Farenheit\n",
      "32.5 derajat Celcius sama dengan 26.0 derajat Reamur\n",
      "32.5 derajat Celcius sama dengan 305.5 derajat Kelvin\n"
     ]
    }
   ],
   "source": [
    "#Program Konversi Suhu\n",
    "\n",
    "CelciusDegree = float(input(\"Masukkan derajat dalam celcius:\\t\"))\n",
    "\n",
    "FarenheitDegree = (CelciusDegree * 9/5 ) + 32\n",
    "\n",
    "ReamurDegree = (CelciusDegree * 4/5)\n",
    "\n",
    "KelvinDegree = CelciusDegree + 273\n",
    "\n",
    "print(f\"{CelciusDegree} derajat Celcius sama dengan {FarenheitDegree} derajat Farenheit\")\n",
    "print(f\"{CelciusDegree} derajat Celcius sama dengan {ReamurDegree} derajat Reamur\")\n",
    "print(f\"{CelciusDegree} derajat Celcius sama dengan {KelvinDegree} derajat Kelvin\")"
   ]
  },
  {
   "cell_type": "code",
   "execution_count": 6,
   "metadata": {},
   "outputs": [
    {
     "name": "stdout",
     "output_type": "stream",
     "text": [
      "Luas Segitiga Anda adalah 10.125\n"
     ]
    }
   ],
   "source": [
    "#Program Menghitung Luas Segitiga\n",
    "\n",
    "AlasSegitiga = float(input(\"Masukkan panjang alas segitiga\"))\n",
    "\n",
    "TinggiSegitiga = float(input(\"Masukkan panjang tinggi segitiga\"))\n",
    "\n",
    "LuasSegitiga = 1/2 * AlasSegitiga * TinggiSegitiga\n",
    "\n",
    "print(f\"Luas Segitiga Anda adalah {LuasSegitiga}\")"
   ]
  },
  {
   "cell_type": "code",
   "execution_count": 7,
   "metadata": {},
   "outputs": [
    {
     "name": "stdout",
     "output_type": "stream",
     "text": [
      "[1, 2, 3, 4, 5]\n",
      "Nilai Maksimal dalam list adalah 5\n",
      "Nilai Minimal dalam list adalah 1\n"
     ]
    }
   ],
   "source": [
    "#Menemukan Nilai Maksimal dan Minimal dalam List\n",
    "Penampungan = []\n",
    "angka = input(\"Masukkan angka yang mau di inputkan: \")\n",
    "Penampungan = angka.split(\",\")\n",
    "\n",
    "Penampungan = [int(angka) for angka in Penampungan]\n",
    "print(Penampungan)\n",
    "\n",
    "#Mencari Nilai Maksimal dan Minimal dalam List\n",
    "NilaiMaksimal = max(Penampungan)\n",
    "NilaiMinimal = min(Penampungan)\n",
    "\n",
    "print(f\"Nilai Maksimal dalam list adalah {NilaiMaksimal}\")\n",
    "print(f\"Nilai Minimal dalam list adalah {NilaiMinimal}\")"
   ]
  },
  {
   "cell_type": "code",
   "execution_count": null,
   "metadata": {},
   "outputs": [],
   "source": []
  }
 ],
 "metadata": {
  "kernelspec": {
   "display_name": "Python 3",
   "language": "python",
   "name": "python3"
  },
  "language_info": {
   "codemirror_mode": {
    "name": "ipython",
    "version": 3
   },
   "file_extension": ".py",
   "mimetype": "text/x-python",
   "name": "python",
   "nbconvert_exporter": "python",
   "pygments_lexer": "ipython3",
   "version": "3.10.8"
  },
  "orig_nbformat": 4
 },
 "nbformat": 4,
 "nbformat_minor": 2
}
